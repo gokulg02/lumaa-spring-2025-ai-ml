{
 "cells": [
  {
   "cell_type": "markdown",
   "metadata": {},
   "source": [
    "**Loading dataset**"
   ]
  },
  {
   "cell_type": "code",
   "execution_count": 1,
   "metadata": {},
   "outputs": [
    {
     "name": "stdout",
     "output_type": "stream",
     "text": [
      "Warning: Looks like you're using an outdated `kagglehub` version, please consider updating (latest version: 0.3.8)\n",
      "Path to dataset files: C:\\Users\\gokul\\.cache\\kagglehub\\datasets\\rmisra\\news-category-dataset\\versions\\3\n"
     ]
    }
   ],
   "source": [
    "# Import the kagglehub module\n",
    "import kagglehub\n",
    "\n",
    "# Download latest version\n",
    "path = kagglehub.dataset_download(\"rmisra/news-category-dataset\")\n",
    "\n",
    "print(\"Path to dataset files:\", path)"
   ]
  },
  {
   "cell_type": "code",
   "execution_count": 2,
   "metadata": {},
   "outputs": [],
   "source": [
    "import json\n",
    "import pandas as pd\n",
    "import numpy as np\n",
    "\n",
    "# Open the JSON file\n",
    "json_file_path = path + r\"\\News_Category_Dataset_v3.json\"\n",
    "\n",
    "with open(json_file_path, 'r') as file:\n",
    "    data = [json.loads(line) for line in file]\n",
    "\n",
    "# Convert the JSON file to a pandas DataFrame\n",
    "df = pd.DataFrame(data)"
   ]
  },
  {
   "cell_type": "code",
   "execution_count": 3,
   "metadata": {},
   "outputs": [
    {
     "data": {
      "text/html": [
       "<div>\n",
       "<style scoped>\n",
       "    .dataframe tbody tr th:only-of-type {\n",
       "        vertical-align: middle;\n",
       "    }\n",
       "\n",
       "    .dataframe tbody tr th {\n",
       "        vertical-align: top;\n",
       "    }\n",
       "\n",
       "    .dataframe thead th {\n",
       "        text-align: right;\n",
       "    }\n",
       "</style>\n",
       "<table border=\"1\" class=\"dataframe\">\n",
       "  <thead>\n",
       "    <tr style=\"text-align: right;\">\n",
       "      <th></th>\n",
       "      <th>link</th>\n",
       "      <th>headline</th>\n",
       "      <th>category</th>\n",
       "      <th>short_description</th>\n",
       "      <th>authors</th>\n",
       "      <th>date</th>\n",
       "    </tr>\n",
       "  </thead>\n",
       "  <tbody>\n",
       "    <tr>\n",
       "      <th>0</th>\n",
       "      <td>https://www.huffpost.com/entry/covid-boosters-...</td>\n",
       "      <td>Over 4 Million Americans Roll Up Sleeves For O...</td>\n",
       "      <td>U.S. NEWS</td>\n",
       "      <td>Health experts said it is too early to predict...</td>\n",
       "      <td>Carla K. Johnson, AP</td>\n",
       "      <td>2022-09-23</td>\n",
       "    </tr>\n",
       "    <tr>\n",
       "      <th>1</th>\n",
       "      <td>https://www.huffpost.com/entry/american-airlin...</td>\n",
       "      <td>American Airlines Flyer Charged, Banned For Li...</td>\n",
       "      <td>U.S. NEWS</td>\n",
       "      <td>He was subdued by passengers and crew when he ...</td>\n",
       "      <td>Mary Papenfuss</td>\n",
       "      <td>2022-09-23</td>\n",
       "    </tr>\n",
       "    <tr>\n",
       "      <th>2</th>\n",
       "      <td>https://www.huffpost.com/entry/funniest-tweets...</td>\n",
       "      <td>23 Of The Funniest Tweets About Cats And Dogs ...</td>\n",
       "      <td>COMEDY</td>\n",
       "      <td>\"Until you have a dog you don't understand wha...</td>\n",
       "      <td>Elyse Wanshel</td>\n",
       "      <td>2022-09-23</td>\n",
       "    </tr>\n",
       "    <tr>\n",
       "      <th>3</th>\n",
       "      <td>https://www.huffpost.com/entry/funniest-parent...</td>\n",
       "      <td>The Funniest Tweets From Parents This Week (Se...</td>\n",
       "      <td>PARENTING</td>\n",
       "      <td>\"Accidentally put grown-up toothpaste on my to...</td>\n",
       "      <td>Caroline Bologna</td>\n",
       "      <td>2022-09-23</td>\n",
       "    </tr>\n",
       "    <tr>\n",
       "      <th>4</th>\n",
       "      <td>https://www.huffpost.com/entry/amy-cooper-lose...</td>\n",
       "      <td>Woman Who Called Cops On Black Bird-Watcher Lo...</td>\n",
       "      <td>U.S. NEWS</td>\n",
       "      <td>Amy Cooper accused investment firm Franklin Te...</td>\n",
       "      <td>Nina Golgowski</td>\n",
       "      <td>2022-09-22</td>\n",
       "    </tr>\n",
       "  </tbody>\n",
       "</table>\n",
       "</div>"
      ],
      "text/plain": [
       "                                                link  \\\n",
       "0  https://www.huffpost.com/entry/covid-boosters-...   \n",
       "1  https://www.huffpost.com/entry/american-airlin...   \n",
       "2  https://www.huffpost.com/entry/funniest-tweets...   \n",
       "3  https://www.huffpost.com/entry/funniest-parent...   \n",
       "4  https://www.huffpost.com/entry/amy-cooper-lose...   \n",
       "\n",
       "                                            headline   category  \\\n",
       "0  Over 4 Million Americans Roll Up Sleeves For O...  U.S. NEWS   \n",
       "1  American Airlines Flyer Charged, Banned For Li...  U.S. NEWS   \n",
       "2  23 Of The Funniest Tweets About Cats And Dogs ...     COMEDY   \n",
       "3  The Funniest Tweets From Parents This Week (Se...  PARENTING   \n",
       "4  Woman Who Called Cops On Black Bird-Watcher Lo...  U.S. NEWS   \n",
       "\n",
       "                                   short_description               authors  \\\n",
       "0  Health experts said it is too early to predict...  Carla K. Johnson, AP   \n",
       "1  He was subdued by passengers and crew when he ...        Mary Papenfuss   \n",
       "2  \"Until you have a dog you don't understand wha...         Elyse Wanshel   \n",
       "3  \"Accidentally put grown-up toothpaste on my to...      Caroline Bologna   \n",
       "4  Amy Cooper accused investment firm Franklin Te...        Nina Golgowski   \n",
       "\n",
       "         date  \n",
       "0  2022-09-23  \n",
       "1  2022-09-23  \n",
       "2  2022-09-23  \n",
       "3  2022-09-23  \n",
       "4  2022-09-22  "
      ]
     },
     "execution_count": 3,
     "metadata": {},
     "output_type": "execute_result"
    }
   ],
   "source": [
    "df.head()"
   ]
  },
  {
   "cell_type": "code",
   "execution_count": 4,
   "metadata": {},
   "outputs": [
    {
     "data": {
      "text/html": [
       "<div>\n",
       "<style scoped>\n",
       "    .dataframe tbody tr th:only-of-type {\n",
       "        vertical-align: middle;\n",
       "    }\n",
       "\n",
       "    .dataframe tbody tr th {\n",
       "        vertical-align: top;\n",
       "    }\n",
       "\n",
       "    .dataframe thead th {\n",
       "        text-align: right;\n",
       "    }\n",
       "</style>\n",
       "<table border=\"1\" class=\"dataframe\">\n",
       "  <thead>\n",
       "    <tr style=\"text-align: right;\">\n",
       "      <th></th>\n",
       "      <th>link</th>\n",
       "      <th>headline</th>\n",
       "      <th>category</th>\n",
       "      <th>short_description</th>\n",
       "      <th>authors</th>\n",
       "      <th>date</th>\n",
       "    </tr>\n",
       "  </thead>\n",
       "  <tbody>\n",
       "    <tr>\n",
       "      <th>count</th>\n",
       "      <td>209527</td>\n",
       "      <td>209527</td>\n",
       "      <td>209527</td>\n",
       "      <td>209527</td>\n",
       "      <td>209527</td>\n",
       "      <td>209527</td>\n",
       "    </tr>\n",
       "    <tr>\n",
       "      <th>unique</th>\n",
       "      <td>209486</td>\n",
       "      <td>207996</td>\n",
       "      <td>42</td>\n",
       "      <td>187022</td>\n",
       "      <td>29169</td>\n",
       "      <td>3890</td>\n",
       "    </tr>\n",
       "    <tr>\n",
       "      <th>top</th>\n",
       "      <td>https://www.huffingtonpost.comhttps://www.wash...</td>\n",
       "      <td>Sunday Roundup</td>\n",
       "      <td>POLITICS</td>\n",
       "      <td></td>\n",
       "      <td></td>\n",
       "      <td>2014-03-25</td>\n",
       "    </tr>\n",
       "    <tr>\n",
       "      <th>freq</th>\n",
       "      <td>2</td>\n",
       "      <td>90</td>\n",
       "      <td>35602</td>\n",
       "      <td>19712</td>\n",
       "      <td>37418</td>\n",
       "      <td>100</td>\n",
       "    </tr>\n",
       "  </tbody>\n",
       "</table>\n",
       "</div>"
      ],
      "text/plain": [
       "                                                     link        headline  \\\n",
       "count                                              209527          209527   \n",
       "unique                                             209486          207996   \n",
       "top     https://www.huffingtonpost.comhttps://www.wash...  Sunday Roundup   \n",
       "freq                                                    2              90   \n",
       "\n",
       "        category short_description authors        date  \n",
       "count     209527            209527  209527      209527  \n",
       "unique        42            187022   29169        3890  \n",
       "top     POLITICS                            2014-03-25  \n",
       "freq       35602             19712   37418         100  "
      ]
     },
     "execution_count": 4,
     "metadata": {},
     "output_type": "execute_result"
    }
   ],
   "source": [
    "df.describe()"
   ]
  },
  {
   "cell_type": "markdown",
   "metadata": {},
   "source": [
    "**Vectorize input dataset**"
   ]
  },
  {
   "cell_type": "code",
   "execution_count": 5,
   "metadata": {},
   "outputs": [],
   "source": [
    "from sklearn.feature_extraction.text import TfidfVectorizer\n",
    "\n",
    "# Declare the TfidfVectorizer\n",
    "vectorizer = TfidfVectorizer(stop_words='english')\n",
    "\n",
    "# Create a matrix of input word vectors\n",
    "tfidf_matrix = vectorizer.fit_transform(df['short_description']+ \" \" + df['headline'])"
   ]
  },
  {
   "cell_type": "code",
   "execution_count": 6,
   "metadata": {},
   "outputs": [
    {
     "data": {
      "text/plain": [
       "(209527, 88200)"
      ]
     },
     "execution_count": 6,
     "metadata": {},
     "output_type": "execute_result"
    }
   ],
   "source": [
    "tfidf_matrix.shape"
   ]
  },
  {
   "cell_type": "markdown",
   "metadata": {},
   "source": [
    "**Recommender Function**"
   ]
  },
  {
   "cell_type": "code",
   "execution_count": 11,
   "metadata": {},
   "outputs": [],
   "source": [
    "#Function to recommend articles based on the query\n",
    "def recommender(query, top_n=5):\n",
    "    '''\n",
    "    params: query - a string containing the query\n",
    "            top_n - an integer specifying the number of results to return\n",
    "    returns: a DataFrame containing the top_n results\n",
    "    '''\n",
    "    \n",
    "    #Vectorize the query\n",
    "    query_vec = vectorizer.transform([query])   \n",
    "    \n",
    "    #Calculate the cosine similarity score\n",
    "    results = np.dot(tfidf_matrix, query_vec.T) \n",
    "    results = np.squeeze(results.toarray())\n",
    "    \n",
    "    #Filter the top_n results\n",
    "    top_idx = results.argsort()[-top_n:][::-1]\n",
    "\n",
    "    #Append the similarity score to the results\n",
    "    df['similarity_score'] = results\n",
    "\n",
    "    return df.iloc[top_idx]\n",
    "\n",
    "\n",
    "#Function to display the results\n",
    "def display_results(results):\n",
    "    '''\n",
    "    params: results - a DataFrame containing the results\n",
    "    returns: None\n",
    "    '''\n",
    "    c = 1\n",
    "    for i, row in results.iterrows():\n",
    "        print(\"Result #\", c)\n",
    "        print(f\"{'HEADLINE'} - {row['headline']}\")\n",
    "        print(f\"{'DESCRIPTION'} - {row['short_description']}\")\n",
    "        print(f\"{'SIMILIARITY SCORE'} - {results.loc[i, 'similarity_score']}\")\n",
    "        print(f\"{'LINK'} - {row['link']}\")\n",
    "        c += 1"
   ]
  },
  {
   "cell_type": "markdown",
   "metadata": {},
   "source": [
    "**Sample Test Queries**"
   ]
  },
  {
   "cell_type": "code",
   "execution_count": 12,
   "metadata": {},
   "outputs": [
    {
     "name": "stdout",
     "output_type": "stream",
     "text": [
      "Result # 1\n",
      "HEADLINE - Tea Health Benefits: 8 Ways It Could Benefit Our Bodies\n",
      "DESCRIPTION - A cup of tea anyone? It could do wonders for your health. A lot of research has focused on green tea in particular, Health.com\n",
      "SIMILIARITY SCORE - 0.7114795090361802\n",
      "LINK - https://www.huffingtonpost.com/entry/tea-health-benefits-cancer-heart-disease_us_5b9c2e55e4b03a1dcc7ce60b\n",
      "Result # 2\n",
      "HEADLINE - Green Tea Benefits: How The Drink Improves Your Health\n",
      "DESCRIPTION - While experts agree that more research is still needed, this only adds to the body of work linking green tea to healthy, happy\n",
      "SIMILIARITY SCORE - 0.6391623122003975\n",
      "LINK - https://www.huffingtonpost.com/entry/green-tea-benefits-health_us_5b9c6ec9e4b03a1dcc7e965a\n",
      "Result # 3\n",
      "HEADLINE - Green Tea Could Help Functioning In Old Age: Study\n",
      "DESCRIPTION - Green tea has long been eyed for possible health benefits, including its potential to decrease the risk of certain cancers\n",
      "SIMILIARITY SCORE - 0.6155933359328156\n",
      "LINK - https://www.huffingtonpost.com/entry/green-tea-functioning-old-age_us_5b9b4994e4b03a1dcc765816\n",
      "Result # 4\n",
      "HEADLINE - 6 Amazing Benefits of Tea\n",
      "DESCRIPTION - For those that have not yet embraced a tea-drinking habit, it's never too late to start brewing a batch! Explore the various types, flavors, and brands to find your tea-mate.\n",
      "SIMILIARITY SCORE - 0.4471344828322549\n",
      "LINK - https://www.huffingtonpost.com/entry/tea-health-benefits_us_5b9d4d2be4b03a1dcc866e19\n",
      "Result # 5\n",
      "HEADLINE - Will And Kate Anniversary: Tetley Tea Gives Away A Year's Supply Of Tea\n",
      "DESCRIPTION - To get 12 full-size boxes of different varieties of the tea (including Classic Blend, Pure Green, Iced Tea blend and of course\n",
      "SIMILIARITY SCORE - 0.44499211029309776\n",
      "LINK - https://www.huffingtonpost.com/entry/will-and-kate-anniversary_us_5b9ba2a3e4b03a1dcc79328e\n"
     ]
    }
   ],
   "source": [
    "user_query = \"health benefits of green tea\"\n",
    "display_results(recommender(user_query))"
   ]
  },
  {
   "cell_type": "code",
   "execution_count": 11,
   "metadata": {},
   "outputs": [
    {
     "name": "stdout",
     "output_type": "stream",
     "text": [
      "Result # 1\n",
      "HEADLINE - Artificial Intelligence Is Here To Change Your Life\n",
      "DESCRIPTION - The revolution began before you even realized it.\n",
      "SIMILIARITY SCORE - 0.419997516127092\n",
      "LINK - https://www.huffingtonpost.com/entry/artificial-intelligence-mit-tech-conference_us_56cb20ade4b0928f5a6c7463\n",
      "Result # 2\n",
      "HEADLINE - Google Just 'Open Sourced' Its Artificial Intelligence Engine\n",
      "DESCRIPTION - Tech pundit Tim O’Reilly had just tried the new Google Photos app, and he was amazed by the depth of its artificial intelligence\n",
      "SIMILIARITY SCORE - 0.38976526991553073\n",
      "LINK - https://www.huffingtonpost.comhttp://www.wired.com/2015/11/google-open-sources-its-artificial-intelligence-engine/\n",
      "Result # 3\n",
      "HEADLINE - How To Stop Worrying And Love Artificial Intelligence\n",
      "DESCRIPTION - A new book finds the heart in our cold, robotic future.\n",
      "SIMILIARITY SCORE - 0.3283044407769491\n",
      "LINK - https://www.huffingtonpost.com/entry/heartificial-intelligence-john-havens_us_56bb4bfee4b0b40245c4beac\n",
      "Result # 4\n",
      "HEADLINE - World's Business Elite Are Stressed About Our Robotic Future\n",
      "DESCRIPTION - In Davos, not everyone is excited about artificial intelligence.\n",
      "SIMILIARITY SCORE - 0.31743328665892745\n",
      "LINK - https://www.huffingtonpost.com/entry/davos-2016-artificial-intelligence_us_569f9e46e4b0875553c2672c\n",
      "Result # 5\n",
      "HEADLINE - Donald Trump Is Once Again Going To War Against His Own Intelligence Agencies\n",
      "DESCRIPTION - The president's Friday outburst is only the latest in a flurry of assaults against U.S. intelligence.\n",
      "SIMILIARITY SCORE - 0.3084445119139691\n",
      "LINK - https://www.huffingtonpost.com/entry/donald-trump-is-once-again-going-to-war-against-his-own-intelligence-agencies_us_58b02a58e4b0a8a9b7813134\n"
     ]
    }
   ],
   "source": [
    "user_query = \"Latest advancements in artificial intelligence\"\n",
    "display_results(recommender(user_query))"
   ]
  },
  {
   "cell_type": "code",
   "execution_count": 10,
   "metadata": {},
   "outputs": [
    {
     "name": "stdout",
     "output_type": "stream",
     "text": [
      "Result # 1\n",
      "HEADLINE - This Woman Put A Game-Changing Twist On Your Average Music Festival\n",
      "DESCRIPTION - The Other Festival makes up for the lack of gender inclusion in the festival circuit.\n",
      "SIMILIARITY SCORE - 0.6237387836456741\n",
      "LINK - https://www.huffingtonpost.com/entry/the-other-festival-new-york-city_us_575ab6b7e4b0ced23ca7c18d\n",
      "Result # 2\n",
      "HEADLINE - This Music Festival Is Helping To Combat Anti-LGBT Discrimination In NC\n",
      "DESCRIPTION - \"In some ways, we’re queering the typical music festival.\"\n",
      "SIMILIARITY SCORE - 0.6079321697131563\n",
      "LINK - https://www.huffingtonpost.com/entry/moogfest-anti-lgbt-discrimination_us_56feaadee4b0daf53aef8f53\n",
      "Result # 3\n",
      "HEADLINE - WATCH: Music Festival Dancing: The Best Of The Best\n",
      "DESCRIPTION - \n",
      "SIMILIARITY SCORE - 0.5734272625670541\n",
      "LINK - https://www.huffingtonpost.com/entry/music-festival-dancing_n_5329798.html\n",
      "Result # 4\n",
      "HEADLINE - Oyster's Guide to the ULTRA Music Festival (PHOTOS)\n",
      "DESCRIPTION - Electronic music fans from around the world will be flocking to Bayfront Park for DJ sets at the ULTRA Music Festival.\n",
      "SIMILIARITY SCORE - 0.5631581809858333\n",
      "LINK - https://www.huffingtonpost.com/entry/oysters-guide-to-the-ultr_us_5b9b708fe4b03a1dcc778e08\n",
      "Result # 5\n",
      "HEADLINE - The 5 Best Acts from Boston Calling (and Where To Catch Them This Summer)\n",
      "DESCRIPTION - Music festival season is officially upon us! There are close to 50 music festivals happening throughout the summer and early fall which can make it challenging to decide which festival to attend.\n",
      "SIMILIARITY SCORE - 0.5130513577884923\n",
      "LINK - https://www.huffingtonpost.com/entry/the-5-best-acts-from-bost_b_7505468.html\n"
     ]
    }
   ],
   "source": [
    "user_query = \"music festival\"\n",
    "display_results(recommender(user_query))"
   ]
  }
 ],
 "metadata": {
  "kernelspec": {
   "display_name": "base",
   "language": "python",
   "name": "python3"
  },
  "language_info": {
   "codemirror_mode": {
    "name": "ipython",
    "version": 3
   },
   "file_extension": ".py",
   "mimetype": "text/x-python",
   "name": "python",
   "nbconvert_exporter": "python",
   "pygments_lexer": "ipython3",
   "version": "3.12.4"
  }
 },
 "nbformat": 4,
 "nbformat_minor": 2
}
